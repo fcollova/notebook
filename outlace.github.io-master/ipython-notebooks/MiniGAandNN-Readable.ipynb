{
 "cells": [
  {
   "cell_type": "markdown",
   "metadata": {},
   "source": [
    "#Ok so that was some nasty code, here's a more readable version:"
   ]
  },
  {
   "cell_type": "code",
   "execution_count": 51,
   "metadata": {
    "collapsed": false
   },
   "outputs": [
    {
     "name": "stdout",
     "output_type": "stream",
     "text": [
      "(Gen: #0) Total error: 2392.48567828\n",
      "\n",
      "(Gen: #1) Total error: 311.795154816\n",
      "\n",
      "(Gen: #2) Total error: 239.481842378\n",
      "\n",
      "(Gen: #3) Total error: 106.005440241\n",
      "\n",
      "(Gen: #4) Total error: 45.2453789328\n",
      "\n",
      "Best Sol'n:\n",
      "[[ 23.44515757  -2.32        -9.78      ]]\n",
      "Cost:0.000138407123392\n",
      "When X = \n",
      "[[0 1]\n",
      " [1 1]\n",
      " [0 0]\n",
      " [1 0]] \n",
      "hThetaX = \n",
      "[[ 0.]\n",
      " [ 1.]\n",
      " [ 0.]\n",
      " [ 1.]]\n"
     ]
    },
    {
     "data": {
      "image/png": "[encoded data removed]",
      "text/plain": [
       "<matplotlib.figure.Figure at 0x1063930f0>"
      ]
     },
     "metadata": {},
     "output_type": "display_data"
    }
   ],
   "source": [
    "import matplotlib as plt\n",
    "%matplotlib inline\n",
    "import random as rn, numpy as np\n",
    "import NeuralNet as NN\n",
    "# [Init pop (pop=100), mut rate (=5%), num generations (250), chromosome/solution length (3), # winners/per gen]\n",
    "initPop, mutRate, numGen, solLen, numWin = 100, 0.1, 5, 3, 10\n",
    "#initialize current population to random values within range\n",
    "curPop = np.random.choice(np.arange(-15,15,step=0.01),size=(initPop,solLen),replace=False) \n",
    "nextPop = np.zeros((curPop.shape[0], curPop.shape[1]))\n",
    "fitVec = np.zeros((initPop, 2)) #1st col is indices, 2nd col is cost\n",
    "for i in range(numGen): #iterate through num generations\n",
    "    #Create vector of all errors from cost function for each solution\n",
    "\tfitVec = np.array([np.array([x, np.sum(NN.costFunction(NN.X, NN.y, curPop[x].T))]) for x in range(initPop)])\n",
    "\tprint(\"(Gen: #%s) Total error: %s\\n\" % (i, np.sum(fitVec[:,1])))\n",
    "\tplt.pyplot.scatter(i,np.sum(fitVec[:,1]))\n",
    "\twinners = np.zeros((numWin, solLen)) #20x3\n",
    "\tfor n in range(len(winners)): #for n in range(10)\n",
    "\t\tselected = np.random.choice(range(len(fitVec)), numWin/2, replace=False)\n",
    "\t\twnr = np.argmin(fitVec[selected,1])\n",
    "\t\twinners[n] = curPop[int(fitVec[selected[wnr]][0])]\n",
    "\tnextPop[:len(winners)] = winners #populate new gen with winners\n",
    "\tduplicWin = np.zeros((((initPop - len(winners))),winners.shape[1]))\n",
    "\tfor x in range(winners.shape[1]): #for each col in winners (3 cols)\n",
    "        #Duplicate winners (20x3 matrix) 3 times to create an 80x3 matrix, then shuffle columns\n",
    "\t\tnumDups = ((initPop - len(winners))/len(winners)) #num times to duplicate, needs to fill rest of nextPop\n",
    "\t\tduplicWin[:, x] = np.repeat(winners[:, x], numDups, axis=0)#duplicate each col\n",
    "\t\tduplicWin[:, x] = np.random.permutation(duplicWin[:, x]) #shuffle each col (\"crossover\")\n",
    "    #Populate the rest of the generation with offspring of mating pairs\n",
    "\tnextPop[len(winners):] = np.matrix(duplicWin)\n",
    "    #Create a mutation matrix, mostly 1s, but some elements are random numbers from a normal distribution\n",
    "\tmutMatrix = [np.float(np.random.normal(0,2,1)) if rn.random() < mutRate else 1 for x in range(nextPop.size)]\n",
    "    #randomly mutate part of the population by multiplying nextPop by our mutation matrix\n",
    "\tnextPop = np.multiply(nextPop, np.matrix(mutMatrix).reshape(nextPop.shape)) \n",
    "\tcurPop = nextPop\n",
    "plt.pyplot.ylabel('Total cost/err')\n",
    "plt.pyplot.xlabel('Generation #')\n",
    "best_soln = curPop[np.argmin(fitVec[:,1])]\n",
    "X = np.array([[0,1,1],[1,1,1],[0,0,1],[1,0,1]])\n",
    "result = np.round(NN.runForward(X, best_soln.T))\n",
    "print(\"Best Sol'n:\\n%s\\nCost:%s\" % (best_soln,np.sum(NN.costFunction(NN.X, NN.y, best_soln.T))))\n",
    "print(\"When X = \\n%s \\nhThetaX = \\n%s\" % (X[:,:2], result,))"
   ]
  },
  {
   "cell_type": "code",
   "execution_count": null,
   "metadata": {
    "collapsed": true
   },
   "outputs": [],
   "source": []
  }
 ],
 "metadata": {
  "kernelspec": {
   "display_name": "Python 3",
   "language": "python",
   "name": "python3"
  },
  "language_info": {
   "codemirror_mode": {
    "name": "ipython",
    "version": 3
   },
   "file_extension": ".py",
   "mimetype": "text/x-python",
   "name": "python",
   "nbconvert_exporter": "python",
   "pygments_lexer": "ipython3",
   "version": "3.4.3"
  }
 },
 "nbformat": 4,
 "nbformat_minor": 0
}
