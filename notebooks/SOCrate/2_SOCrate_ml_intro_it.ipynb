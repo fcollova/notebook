{
 "cells": [
  {
   "cell_type": "markdown",
   "metadata": {
    "deletable": true,
    "editable": true,
    "slideshow": {
     "slide_type": "slide"
    }
   },
   "source": [
    "<h1><center>Anomaly Detection su Serie Temporali</h1></center>\n",
    "<h3><center>Usando Machine Learning (Deep Learning)</h3></center>\n",
    " \n",
    "  \n",
    "(2)"
   ]
  },
  {
   "cell_type": "markdown",
   "metadata": {
    "deletable": true,
    "editable": true,
    "slideshow": {
     "slide_type": "slide"
    }
   },
   "source": [
    "# Supervised vs Unsupervised\n",
    "\n",
    "I casi d'uso dove il machine learning è più efficace sono i problemi **supervised**.\n",
    "\n",
    "Abbiamo delle variabili indipendenti (features) $X$ e delle variabili target $Y$ e possiamo definire un modello **Discriminativo** che impara la probabilità condizionata di $Y$ dato $X$: $P(Y|X)$.\n",
    "\n",
    "I modelli discriminativi sono i più facili da addestrare. Classificatori e Regressori sono tipici modelli discriminativi."
   ]
  },
  {
   "cell_type": "markdown",
   "metadata": {
    "deletable": true,
    "editable": true,
    "slideshow": {
     "slide_type": "subslide"
    }
   },
   "source": [
    "I problemi **unsupervised** sono quelli in cui non abbiamo le etichette $Y$.\n",
    "\n",
    "Lo scenario è: osserviamo dei dati e vogliamo replicare il processo che ha generato tali dati.\n",
    "\n",
    "Perché?\n",
    "- se impariamo il modello che genera i dati abbiamo capito praticamente tutto di tali dati\n",
    "- abbiamo scoperto il modo più estremo per comprimerli: basta generarli\n",
    "- possiamo generare nuove osservazioni che non erano nemmeno presenti nei dati."
   ]
  },
  {
   "cell_type": "markdown",
   "metadata": {
    "deletable": true,
    "editable": true,
    "slideshow": {
     "slide_type": "subslide"
    }
   },
   "source": [
    "Quindi dobbiamo costruire un modello **Generativo** che impara come sono generati i dati dal processo stocastico che ci sta sotto e che non conosciamo.\n",
    "\n",
    "E come sfruttiamo questo per anomaly detection?\n",
    "\n",
    "Se abbiamo un modello che impara come sono generati i dati, allora tutte le volte che osserviamo un dato che non siamo in grado di generare col nostro modello, lo consideriamo un'anomalia."
   ]
  },
  {
   "cell_type": "markdown",
   "metadata": {
    "deletable": true,
    "editable": true,
    "slideshow": {
     "slide_type": "slide"
    }
   },
   "source": [
    "Riassumiamo il nostro caso d'uso.\n",
    "\n",
    "Abbiamo una serie temporale _multivariata_, con un campionamento a *15 minuti*.\n",
    "Ci sono 3 contatori per il 3G e analoghi per il 4G:\n",
    "\n",
    "1. Volume totale download utenti su un APN (**download**)\n",
    "2. Numero di utenti connessi all'APN (**sessions**)\n",
    "3. Numero di tentativi di nuove sessioni (**attempted**).\n",
    "\n",
    "Il KPI è il rapporto $MeanUserBitrate = \\frac{TotalDownload} {NumSessions}$."
   ]
  },
  {
   "cell_type": "markdown",
   "metadata": {
    "deletable": true,
    "editable": true,
    "slideshow": {
     "slide_type": "subslide"
    }
   },
   "source": [
    "### Prima osservazione.\n",
    "\n",
    "Con un modello di machine learning non siamo costretti a \"comprimere\" la serie multivariata in univariata con un KPI. Se lo facciamo introduciamo un bias.\n",
    "\n",
    "Meglio usare tutte le dimensioni grezze dei dati e lasciare che il modello le usi come ritiene meglio."
   ]
  },
  {
   "cell_type": "markdown",
   "metadata": {
    "deletable": true,
    "editable": true,
    "slideshow": {
     "slide_type": "subslide"
    }
   },
   "source": [
    "### Seconda osservazione.\n",
    "\n",
    "Il KPI definisce il bitrate medio per utente. Per cui la misura della qualità del servizio è il bitrate.\n",
    "\n",
    "Quindi l'idea è definire un modello che impara a predirre il volume di download totale a partire da numero di sessione attive e numero di nuovi tentativi.\n",
    "\n",
    "$$P(TotalDownload\\:|\\:NumSessions, \\;AttemptedSessions)$$\n",
    "\n",
    "Poi se il valore predetto si scosta \"troppo\" dalle osservazioni, segnaleremo una anomalia."
   ]
  },
  {
   "cell_type": "markdown",
   "metadata": {
    "deletable": true,
    "editable": true,
    "slideshow": {
     "slide_type": "subslide"
    }
   },
   "source": [
    "### Terza osservazone.\n",
    "\n",
    "- Con l'approccio precedente (Exponetial Smoothing) abbiamo trattato ogni serie indipendentemente da: luogo, APN (ibox, wap), tecnologia (3G, 4G).\n",
    "\n",
    "\n",
    "- Siccome APN e tecnologia 3G/4G sono nello stesso apparato, è possibile / probabile che siano dati correlati. Un unico modello che sfrutta tutte le informazioni può scoprire le correlazioni e essere più efficace.\n",
    "\n",
    "\n",
    "- Non solo. Anche se i luogi sono diversi e quindi (forse) indipendenti, è possibile che ci siano fenomeni sottostanti comuni. Un modello unico che impara con tutti i data è in teoria sempre più potente di tanti modelli separati.\n",
    "\n",
    "\n",
    "Modelli separati assumono indipendenza nei dati per cui sono uguali a unico modello se ciò è vero. Ma se non lo è il modello unico scova le correlazioni e impara meglio."
   ]
  },
  {
   "cell_type": "code",
   "execution_count": 2,
   "metadata": {
    "collapsed": true,
    "deletable": true,
    "editable": true,
    "slideshow": {
     "slide_type": "slide"
    }
   },
   "outputs": [],
   "source": [
    "%matplotlib inline\n",
    "import pandas as pd\n",
    "import numpy as np\n",
    "import matplotlib.pyplot as plt\n",
    "import os\n",
    "\n",
    "import seaborn as sns\n",
    "sns.set(color_codes=True)\n",
    "\n",
    "import warnings\n",
    "warnings.filterwarnings('ignore')\n",
    "\n",
    "from IPython.core.interactiveshell import InteractiveShell\n",
    "InteractiveShell.ast_node_interactivity = 'all'\n",
    "\n",
    "plt.rcParams['figure.figsize'] = (16, 6)\n",
    "pd.options.display.max_colwidth = 30\n",
    "pd.options.display.max_columns = 100\n",
    "\n",
    "from IPython.display import Image\n",
    "from IPython.core.display import HTML "
   ]
  },
  {
   "cell_type": "markdown",
   "metadata": {
    "deletable": true,
    "editable": true,
    "slideshow": {
     "slide_type": "slide"
    }
   },
   "source": [
    "Importiamo i dati come prima"
   ]
  },
  {
   "cell_type": "code",
   "execution_count": 3,
   "metadata": {
    "collapsed": false,
    "deletable": true,
    "editable": true,
    "slideshow": {
     "slide_type": "fragment"
    }
   },
   "outputs": [
    {
     "data": {
      "text/html": [
       "<div>\n",
       "<table border=\"1\" class=\"dataframe\">\n",
       "  <thead>\n",
       "    <tr style=\"text-align: right;\">\n",
       "      <th></th>\n",
       "      <th>location</th>\n",
       "      <th>name</th>\n",
       "      <th>apn</th>\n",
       "      <th>download3G</th>\n",
       "      <th>download4G</th>\n",
       "      <th>sessions3G</th>\n",
       "      <th>sessions4G</th>\n",
       "      <th>attempted4G</th>\n",
       "      <th>attempted3G</th>\n",
       "      <th>is_ibox</th>\n",
       "    </tr>\n",
       "    <tr>\n",
       "      <th>datetime</th>\n",
       "      <th></th>\n",
       "      <th></th>\n",
       "      <th></th>\n",
       "      <th></th>\n",
       "      <th></th>\n",
       "      <th></th>\n",
       "      <th></th>\n",
       "      <th></th>\n",
       "      <th></th>\n",
       "      <th></th>\n",
       "    </tr>\n",
       "  </thead>\n",
       "  <tbody>\n",
       "    <tr>\n",
       "      <th>2016-09-01</th>\n",
       "      <td>LO</td>\n",
       "      <td>QGGSMI013</td>\n",
       "      <td>ibox.tim.it</td>\n",
       "      <td>3.165439e+11</td>\n",
       "      <td>9.920130e+10</td>\n",
       "      <td>77554.0</td>\n",
       "      <td>30211.0</td>\n",
       "      <td>725.0</td>\n",
       "      <td>28401.0</td>\n",
       "      <td>1</td>\n",
       "    </tr>\n",
       "    <tr>\n",
       "      <th>2016-09-01</th>\n",
       "      <td>LA</td>\n",
       "      <td>QGGSRM013</td>\n",
       "      <td>wap.tim.it</td>\n",
       "      <td>3.033203e+11</td>\n",
       "      <td>3.358968e+11</td>\n",
       "      <td>320474.0</td>\n",
       "      <td>282217.0</td>\n",
       "      <td>13549.0</td>\n",
       "      <td>56050.0</td>\n",
       "      <td>0</td>\n",
       "    </tr>\n",
       "    <tr>\n",
       "      <th>2016-09-01</th>\n",
       "      <td>VE</td>\n",
       "      <td>QGGSVE005</td>\n",
       "      <td>wap.tim.it</td>\n",
       "      <td>2.976347e+11</td>\n",
       "      <td>2.480504e+11</td>\n",
       "      <td>322664.0</td>\n",
       "      <td>252722.0</td>\n",
       "      <td>9583.0</td>\n",
       "      <td>37294.0</td>\n",
       "      <td>0</td>\n",
       "    </tr>\n",
       "    <tr>\n",
       "      <th>2016-09-01</th>\n",
       "      <td>LO</td>\n",
       "      <td>QGGSMI014</td>\n",
       "      <td>ibox.tim.it</td>\n",
       "      <td>2.562127e+11</td>\n",
       "      <td>1.837288e+11</td>\n",
       "      <td>68618.0</td>\n",
       "      <td>53808.0</td>\n",
       "      <td>1250.0</td>\n",
       "      <td>14638.0</td>\n",
       "      <td>1</td>\n",
       "    </tr>\n",
       "    <tr>\n",
       "      <th>2016-09-01</th>\n",
       "      <td>LA</td>\n",
       "      <td>QGGSRM013</td>\n",
       "      <td>ibox.tim.it</td>\n",
       "      <td>2.350472e+11</td>\n",
       "      <td>1.646105e+11</td>\n",
       "      <td>75238.0</td>\n",
       "      <td>45447.0</td>\n",
       "      <td>1192.0</td>\n",
       "      <td>25380.0</td>\n",
       "      <td>1</td>\n",
       "    </tr>\n",
       "  </tbody>\n",
       "</table>\n",
       "</div>"
      ],
      "text/plain": [
       "           location       name          apn    download3G    download4G  \\\n",
       "datetime                                                                  \n",
       "2016-09-01       LO  QGGSMI013  ibox.tim.it  3.165439e+11  9.920130e+10   \n",
       "2016-09-01       LA  QGGSRM013   wap.tim.it  3.033203e+11  3.358968e+11   \n",
       "2016-09-01       VE  QGGSVE005   wap.tim.it  2.976347e+11  2.480504e+11   \n",
       "2016-09-01       LO  QGGSMI014  ibox.tim.it  2.562127e+11  1.837288e+11   \n",
       "2016-09-01       LA  QGGSRM013  ibox.tim.it  2.350472e+11  1.646105e+11   \n",
       "\n",
       "            sessions3G  sessions4G  attempted4G  attempted3G  is_ibox  \n",
       "datetime                                                               \n",
       "2016-09-01     77554.0     30211.0        725.0      28401.0        1  \n",
       "2016-09-01    320474.0    282217.0      13549.0      56050.0        0  \n",
       "2016-09-01    322664.0    252722.0       9583.0      37294.0        0  \n",
       "2016-09-01     68618.0     53808.0       1250.0      14638.0        1  \n",
       "2016-09-01     75238.0     45447.0       1192.0      25380.0        1  "
      ]
     },
     "execution_count": 3,
     "metadata": {},
     "output_type": "execute_result"
    }
   ],
   "source": [
    "df = pd.read_csv('BITRATE_contatori_grezzi.csv', parse_dates=True, index_col='datetime')\n",
    "df = df[df.s5ApnDownlinkBytes < 1e13]\n",
    "\n",
    "df = df.rename(columns={'SRVREG':'location', 'GGSN_J20':'name',\\\n",
    "        'GGSN_J20_APN':'apn', 'ggsnApnDownlinkBytes-s5ApnDownlinkBytes':'download3G',\\\n",
    "        's5ApnDownlinkBytes':'download4G', 'ggsnApnActivePdpContextCount':'sessions3G',\\\n",
    "        'pgwApnActiveEpsBearer':'sessions4G', 'ggsnApnAttemptedActivation':'attempted3G',\\\n",
    "        'pgwApnAttemptedEpsBearerActivation':'attempted4G'})\n",
    "\n",
    "df['is_ibox'] = (df.apn == 'ibox.tim.it').astype(int)\n",
    "df = df.sort_index() \n",
    "df.head()"
   ]
  },
  {
   "cell_type": "markdown",
   "metadata": {
    "deletable": true,
    "editable": true,
    "slideshow": {
     "slide_type": "slide"
    }
   },
   "source": [
    "## Osservazione importante\n",
    "Quando usiamo un modello di Machine Learning su serie temporali, una feature che è importante rendere esplicita è proprio l'informazione del tempo.\n",
    "\n",
    "Occorre essere un po' creativi su come aggiungere in modo efficace tale informazione che può dipendere dal problema in esame.\n",
    "\n",
    "Nel nostro caso assumiamo una stagionalità settimanale, per cui codifichiamo il giorno della settimana come variabile (feature) categorica.\n",
    "\n",
    "Per quanto riguarda l'istante temporale della giornata, ho assunto un valore continuo tra le 00:00 e 24:59. Altri approcci sono possibili come la _quantizzazione_ , detta anche _binning_."
   ]
  },
  {
   "cell_type": "markdown",
   "metadata": {
    "deletable": true,
    "editable": true,
    "slideshow": {
     "slide_type": "subslide"
    }
   },
   "source": [
    "Aggiungiamo le features corrispondenti al tempo: giorno della settimana e istante della giornata (in minuti)"
   ]
  },
  {
   "cell_type": "code",
   "execution_count": 4,
   "metadata": {
    "collapsed": false,
    "deletable": true,
    "editable": true
   },
   "outputs": [
    {
     "name": "stdout",
     "output_type": "stream",
     "text": [
      "shape: (239114, 12)\n"
     ]
    },
    {
     "data": {
      "text/html": [
       "<div>\n",
       "<table border=\"1\" class=\"dataframe\">\n",
       "  <thead>\n",
       "    <tr style=\"text-align: right;\">\n",
       "      <th></th>\n",
       "      <th>location</th>\n",
       "      <th>name</th>\n",
       "      <th>apn</th>\n",
       "      <th>download3G</th>\n",
       "      <th>download4G</th>\n",
       "      <th>sessions3G</th>\n",
       "      <th>sessions4G</th>\n",
       "      <th>attempted4G</th>\n",
       "      <th>attempted3G</th>\n",
       "      <th>is_ibox</th>\n",
       "      <th>dayofweek</th>\n",
       "      <th>timeofday</th>\n",
       "    </tr>\n",
       "    <tr>\n",
       "      <th>datetime</th>\n",
       "      <th></th>\n",
       "      <th></th>\n",
       "      <th></th>\n",
       "      <th></th>\n",
       "      <th></th>\n",
       "      <th></th>\n",
       "      <th></th>\n",
       "      <th></th>\n",
       "      <th></th>\n",
       "      <th></th>\n",
       "      <th></th>\n",
       "      <th></th>\n",
       "    </tr>\n",
       "  </thead>\n",
       "  <tbody>\n",
       "    <tr>\n",
       "      <th>2017-02-28 11:45:00</th>\n",
       "      <td>CB</td>\n",
       "      <td>QGGSNA005</td>\n",
       "      <td>ibox.tim.it</td>\n",
       "      <td>1.965105e+11</td>\n",
       "      <td>1.477223e+11</td>\n",
       "      <td>62868.0</td>\n",
       "      <td>45616.0</td>\n",
       "      <td>3376.0</td>\n",
       "      <td>24381.0</td>\n",
       "      <td>1</td>\n",
       "      <td>1</td>\n",
       "      <td>705</td>\n",
       "    </tr>\n",
       "    <tr>\n",
       "      <th>2017-02-28 11:45:00</th>\n",
       "      <td>SI</td>\n",
       "      <td>QGGSCT003</td>\n",
       "      <td>wap.tim.it</td>\n",
       "      <td>5.021309e+11</td>\n",
       "      <td>7.060618e+11</td>\n",
       "      <td>445217.0</td>\n",
       "      <td>497728.0</td>\n",
       "      <td>29216.0</td>\n",
       "      <td>82497.0</td>\n",
       "      <td>0</td>\n",
       "      <td>1</td>\n",
       "      <td>705</td>\n",
       "    </tr>\n",
       "    <tr>\n",
       "      <th>2017-02-28 11:45:00</th>\n",
       "      <td>SI</td>\n",
       "      <td>QGGSCT003</td>\n",
       "      <td>ibox.tim.it</td>\n",
       "      <td>2.979318e+11</td>\n",
       "      <td>1.293422e+11</td>\n",
       "      <td>84828.0</td>\n",
       "      <td>43118.0</td>\n",
       "      <td>2432.0</td>\n",
       "      <td>26428.0</td>\n",
       "      <td>1</td>\n",
       "      <td>1</td>\n",
       "      <td>705</td>\n",
       "    </tr>\n",
       "    <tr>\n",
       "      <th>2017-02-28 11:45:00</th>\n",
       "      <td>LA</td>\n",
       "      <td>QGGSRM013</td>\n",
       "      <td>wap.tim.it</td>\n",
       "      <td>3.785300e+11</td>\n",
       "      <td>6.474063e+11</td>\n",
       "      <td>432221.0</td>\n",
       "      <td>496745.0</td>\n",
       "      <td>31893.0</td>\n",
       "      <td>77964.0</td>\n",
       "      <td>0</td>\n",
       "      <td>1</td>\n",
       "      <td>705</td>\n",
       "    </tr>\n",
       "    <tr>\n",
       "      <th>2017-02-28 11:45:00</th>\n",
       "      <td>VE</td>\n",
       "      <td>QGGSVE005</td>\n",
       "      <td>wap.tim.it</td>\n",
       "      <td>5.935220e+10</td>\n",
       "      <td>1.202995e+11</td>\n",
       "      <td>98829.0</td>\n",
       "      <td>127288.0</td>\n",
       "      <td>3.0</td>\n",
       "      <td>5.0</td>\n",
       "      <td>0</td>\n",
       "      <td>1</td>\n",
       "      <td>705</td>\n",
       "    </tr>\n",
       "  </tbody>\n",
       "</table>\n",
       "</div>"
      ],
      "text/plain": [
       "                    location       name          apn    download3G  \\\n",
       "datetime                                                             \n",
       "2017-02-28 11:45:00       CB  QGGSNA005  ibox.tim.it  1.965105e+11   \n",
       "2017-02-28 11:45:00       SI  QGGSCT003   wap.tim.it  5.021309e+11   \n",
       "2017-02-28 11:45:00       SI  QGGSCT003  ibox.tim.it  2.979318e+11   \n",
       "2017-02-28 11:45:00       LA  QGGSRM013   wap.tim.it  3.785300e+11   \n",
       "2017-02-28 11:45:00       VE  QGGSVE005   wap.tim.it  5.935220e+10   \n",
       "\n",
       "                       download4G  sessions3G  sessions4G  attempted4G  \\\n",
       "datetime                                                                 \n",
       "2017-02-28 11:45:00  1.477223e+11     62868.0     45616.0       3376.0   \n",
       "2017-02-28 11:45:00  7.060618e+11    445217.0    497728.0      29216.0   \n",
       "2017-02-28 11:45:00  1.293422e+11     84828.0     43118.0       2432.0   \n",
       "2017-02-28 11:45:00  6.474063e+11    432221.0    496745.0      31893.0   \n",
       "2017-02-28 11:45:00  1.202995e+11     98829.0    127288.0          3.0   \n",
       "\n",
       "                     attempted3G  is_ibox dayofweek  timeofday  \n",
       "datetime                                                        \n",
       "2017-02-28 11:45:00      24381.0        1         1        705  \n",
       "2017-02-28 11:45:00      82497.0        0         1        705  \n",
       "2017-02-28 11:45:00      26428.0        1         1        705  \n",
       "2017-02-28 11:45:00      77964.0        0         1        705  \n",
       "2017-02-28 11:45:00          5.0        0         1        705  "
      ]
     },
     "execution_count": 4,
     "metadata": {},
     "output_type": "execute_result"
    }
   ],
   "source": [
    "dff = df.copy()\n",
    "dff['dayofweek'] = dff.index.dayofweek\n",
    "dff.dayofweek = dff.dayofweek.astype(str)\n",
    "dff['timeofday'] = dff.index.hour * 60 + dff.index.minute\n",
    "print('shape:', dff.shape)\n",
    "dff.tail() "
   ]
  },
  {
   "cell_type": "markdown",
   "metadata": {
    "deletable": true,
    "editable": true,
    "slideshow": {
     "slide_type": "slide"
    }
   },
   "source": [
    "## Variabili numeriche e Categoriche\n",
    "\n",
    "Le variabili numeriche sono facili.\n",
    "\n",
    "Le variabili categoriche sono degli indicatori di categoria. Non esiste a priori un ordinamento. Se dessimo dei valori numerici introdurremmo un bias e non vogliamo.\n",
    "\n",
    "Per cui le categorie si convertono nel formato detto **one-hot-encoding**, un vettore binario lungo quante le categorie con tutti zeri e un solo uno per quella categoria."
   ]
  },
  {
   "cell_type": "code",
   "execution_count": 5,
   "metadata": {
    "collapsed": false,
    "deletable": true,
    "editable": true,
    "slideshow": {
     "slide_type": "subslide"
    }
   },
   "outputs": [
    {
     "data": {
      "image/png": "[encoded data removed]",
      "text/plain": [
       "<IPython.core.display.Image object>"
      ]
     },
     "execution_count": 5,
     "metadata": {
      "image/png": {
       "width": 1000
      }
     },
     "output_type": "execute_result"
    }
   ],
   "source": [
    "width_size = 1000\n",
    "Image('pics/onehot.png', width=width_size)"
   ]
  },
  {
   "cell_type": "markdown",
   "metadata": {
    "deletable": true,
    "editable": true,
    "slideshow": {
     "slide_type": "slide"
    }
   },
   "source": [
    "Nel nostro dataset compaiono 3 variabili categoriche:\n",
    "\n",
    "- giorno della settimana\n",
    "- nome apparato\n",
    "- tipo apn\n",
    "\n",
    "ci sarebbe anche la location ma è sussunta del nome dell'apparato per cui ridondante.\n",
    "\n",
    "notate che il tipo di apn in questo caso è binario per come l'ho trattato (is_ibox). Le variabili binarie sono un caso particolare di dati categorici con 2 categorie e hanno una rappresentazione compatta."
   ]
  },
  {
   "cell_type": "markdown",
   "metadata": {
    "deletable": true,
    "editable": true,
    "slideshow": {
     "slide_type": "subslide"
    }
   },
   "source": [
    "Per convertire le variabili con one-hot-encoding possiamo usare scikit_learn o pandas. Ad esempio:"
   ]
  },
  {
   "cell_type": "code",
   "execution_count": 6,
   "metadata": {
    "collapsed": false,
    "deletable": true,
    "editable": true
   },
   "outputs": [
    {
     "name": "stdout",
     "output_type": "stream",
     "text": [
      "shape: (239114, 23)\n"
     ]
    },
    {
     "data": {
      "text/html": [
       "<div>\n",
       "<table border=\"1\" class=\"dataframe\">\n",
       "  <thead>\n",
       "    <tr style=\"text-align: right;\">\n",
       "      <th></th>\n",
       "      <th></th>\n",
       "      <th></th>\n",
       "      <th>download3G</th>\n",
       "      <th>download4G</th>\n",
       "      <th>sessions3G</th>\n",
       "      <th>sessions4G</th>\n",
       "      <th>attempted4G</th>\n",
       "      <th>attempted3G</th>\n",
       "      <th>is_ibox</th>\n",
       "      <th>timeofday</th>\n",
       "      <th>dayofweek_0</th>\n",
       "      <th>dayofweek_1</th>\n",
       "      <th>dayofweek_2</th>\n",
       "      <th>dayofweek_3</th>\n",
       "      <th>dayofweek_4</th>\n",
       "      <th>dayofweek_5</th>\n",
       "      <th>dayofweek_6</th>\n",
       "      <th>name_QGGSBO005</th>\n",
       "      <th>name_QGGSCT003</th>\n",
       "      <th>name_QGGSMI013</th>\n",
       "      <th>name_QGGSMI014</th>\n",
       "      <th>name_QGGSNA005</th>\n",
       "      <th>name_QGGSRM013</th>\n",
       "      <th>name_QGGSRM014</th>\n",
       "      <th>name_QGGSVE005</th>\n",
       "    </tr>\n",
       "    <tr>\n",
       "      <th>location</th>\n",
       "      <th>apn</th>\n",
       "      <th>datetime</th>\n",
       "      <th></th>\n",
       "      <th></th>\n",
       "      <th></th>\n",
       "      <th></th>\n",
       "      <th></th>\n",
       "      <th></th>\n",
       "      <th></th>\n",
       "      <th></th>\n",
       "      <th></th>\n",
       "      <th></th>\n",
       "      <th></th>\n",
       "      <th></th>\n",
       "      <th></th>\n",
       "      <th></th>\n",
       "      <th></th>\n",
       "      <th></th>\n",
       "      <th></th>\n",
       "      <th></th>\n",
       "      <th></th>\n",
       "      <th></th>\n",
       "      <th></th>\n",
       "      <th></th>\n",
       "      <th></th>\n",
       "    </tr>\n",
       "  </thead>\n",
       "  <tbody>\n",
       "    <tr>\n",
       "      <th rowspan=\"5\" valign=\"top\">CB</th>\n",
       "      <th rowspan=\"5\" valign=\"top\">ibox.tim.it</th>\n",
       "      <th>2016-12-01 00:00:00</th>\n",
       "      <td>1.444864e+11</td>\n",
       "      <td>1.223660e+11</td>\n",
       "      <td>48334.0</td>\n",
       "      <td>39031.0</td>\n",
       "      <td>1721.0</td>\n",
       "      <td>14481.0</td>\n",
       "      <td>1</td>\n",
       "      <td>0</td>\n",
       "      <td>0</td>\n",
       "      <td>0</td>\n",
       "      <td>0</td>\n",
       "      <td>1</td>\n",
       "      <td>0</td>\n",
       "      <td>0</td>\n",
       "      <td>0</td>\n",
       "      <td>0</td>\n",
       "      <td>0</td>\n",
       "      <td>0</td>\n",
       "      <td>0</td>\n",
       "      <td>1</td>\n",
       "      <td>0</td>\n",
       "      <td>0</td>\n",
       "      <td>0</td>\n",
       "    </tr>\n",
       "    <tr>\n",
       "      <th>2016-12-01 00:15:00</th>\n",
       "      <td>1.330424e+11</td>\n",
       "      <td>1.132276e+11</td>\n",
       "      <td>47255.0</td>\n",
       "      <td>38427.0</td>\n",
       "      <td>1329.0</td>\n",
       "      <td>13327.0</td>\n",
       "      <td>1</td>\n",
       "      <td>15</td>\n",
       "      <td>0</td>\n",
       "      <td>0</td>\n",
       "      <td>0</td>\n",
       "      <td>1</td>\n",
       "      <td>0</td>\n",
       "      <td>0</td>\n",
       "      <td>0</td>\n",
       "      <td>0</td>\n",
       "      <td>0</td>\n",
       "      <td>0</td>\n",
       "      <td>0</td>\n",
       "      <td>1</td>\n",
       "      <td>0</td>\n",
       "      <td>0</td>\n",
       "      <td>0</td>\n",
       "    </tr>\n",
       "    <tr>\n",
       "      <th>2016-12-01 00:30:00</th>\n",
       "      <td>1.145610e+11</td>\n",
       "      <td>9.745850e+10</td>\n",
       "      <td>46426.0</td>\n",
       "      <td>38014.0</td>\n",
       "      <td>1310.0</td>\n",
       "      <td>12740.0</td>\n",
       "      <td>1</td>\n",
       "      <td>30</td>\n",
       "      <td>0</td>\n",
       "      <td>0</td>\n",
       "      <td>0</td>\n",
       "      <td>1</td>\n",
       "      <td>0</td>\n",
       "      <td>0</td>\n",
       "      <td>0</td>\n",
       "      <td>0</td>\n",
       "      <td>0</td>\n",
       "      <td>0</td>\n",
       "      <td>0</td>\n",
       "      <td>1</td>\n",
       "      <td>0</td>\n",
       "      <td>0</td>\n",
       "      <td>0</td>\n",
       "    </tr>\n",
       "    <tr>\n",
       "      <th>2016-12-01 00:45:00</th>\n",
       "      <td>1.005404e+11</td>\n",
       "      <td>8.736008e+10</td>\n",
       "      <td>45756.0</td>\n",
       "      <td>37761.0</td>\n",
       "      <td>1193.0</td>\n",
       "      <td>12147.0</td>\n",
       "      <td>1</td>\n",
       "      <td>45</td>\n",
       "      <td>0</td>\n",
       "      <td>0</td>\n",
       "      <td>0</td>\n",
       "      <td>1</td>\n",
       "      <td>0</td>\n",
       "      <td>0</td>\n",
       "      <td>0</td>\n",
       "      <td>0</td>\n",
       "      <td>0</td>\n",
       "      <td>0</td>\n",
       "      <td>0</td>\n",
       "      <td>1</td>\n",
       "      <td>0</td>\n",
       "      <td>0</td>\n",
       "      <td>0</td>\n",
       "    </tr>\n",
       "    <tr>\n",
       "      <th>2016-12-01 01:00:00</th>\n",
       "      <td>8.626180e+10</td>\n",
       "      <td>7.939344e+10</td>\n",
       "      <td>44464.0</td>\n",
       "      <td>37872.0</td>\n",
       "      <td>13033.0</td>\n",
       "      <td>26534.0</td>\n",
       "      <td>1</td>\n",
       "      <td>60</td>\n",
       "      <td>0</td>\n",
       "      <td>0</td>\n",
       "      <td>0</td>\n",
       "      <td>1</td>\n",
       "      <td>0</td>\n",
       "      <td>0</td>\n",
       "      <td>0</td>\n",
       "      <td>0</td>\n",
       "      <td>0</td>\n",
       "      <td>0</td>\n",
       "      <td>0</td>\n",
       "      <td>1</td>\n",
       "      <td>0</td>\n",
       "      <td>0</td>\n",
       "      <td>0</td>\n",
       "    </tr>\n",
       "  </tbody>\n",
       "</table>\n",
       "</div>"
      ],
      "text/plain": [
       "                                            download3G    download4G  \\\n",
       "location apn         datetime                                          \n",
       "CB       ibox.tim.it 2016-12-01 00:00:00  1.444864e+11  1.223660e+11   \n",
       "                     2016-12-01 00:15:00  1.330424e+11  1.132276e+11   \n",
       "                     2016-12-01 00:30:00  1.145610e+11  9.745850e+10   \n",
       "                     2016-12-01 00:45:00  1.005404e+11  8.736008e+10   \n",
       "                     2016-12-01 01:00:00  8.626180e+10  7.939344e+10   \n",
       "\n",
       "                                          sessions3G  sessions4G  attempted4G  \\\n",
       "location apn         datetime                                                   \n",
       "CB       ibox.tim.it 2016-12-01 00:00:00     48334.0     39031.0       1721.0   \n",
       "                     2016-12-01 00:15:00     47255.0     38427.0       1329.0   \n",
       "                     2016-12-01 00:30:00     46426.0     38014.0       1310.0   \n",
       "                     2016-12-01 00:45:00     45756.0     37761.0       1193.0   \n",
       "                     2016-12-01 01:00:00     44464.0     37872.0      13033.0   \n",
       "\n",
       "                                          attempted3G  is_ibox  timeofday  \\\n",
       "location apn         datetime                                               \n",
       "CB       ibox.tim.it 2016-12-01 00:00:00      14481.0        1          0   \n",
       "                     2016-12-01 00:15:00      13327.0        1         15   \n",
       "                     2016-12-01 00:30:00      12740.0        1         30   \n",
       "                     2016-12-01 00:45:00      12147.0        1         45   \n",
       "                     2016-12-01 01:00:00      26534.0        1         60   \n",
       "\n",
       "                                          dayofweek_0  dayofweek_1  \\\n",
       "location apn         datetime                                        \n",
       "CB       ibox.tim.it 2016-12-01 00:00:00            0            0   \n",
       "                     2016-12-01 00:15:00            0            0   \n",
       "                     2016-12-01 00:30:00            0            0   \n",
       "                     2016-12-01 00:45:00            0            0   \n",
       "                     2016-12-01 01:00:00            0            0   \n",
       "\n",
       "                                          dayofweek_2  dayofweek_3  \\\n",
       "location apn         datetime                                        \n",
       "CB       ibox.tim.it 2016-12-01 00:00:00            0            1   \n",
       "                     2016-12-01 00:15:00            0            1   \n",
       "                     2016-12-01 00:30:00            0            1   \n",
       "                     2016-12-01 00:45:00            0            1   \n",
       "                     2016-12-01 01:00:00            0            1   \n",
       "\n",
       "                                          dayofweek_4  dayofweek_5  \\\n",
       "location apn         datetime                                        \n",
       "CB       ibox.tim.it 2016-12-01 00:00:00            0            0   \n",
       "                     2016-12-01 00:15:00            0            0   \n",
       "                     2016-12-01 00:30:00            0            0   \n",
       "                     2016-12-01 00:45:00            0            0   \n",
       "                     2016-12-01 01:00:00            0            0   \n",
       "\n",
       "                                          dayofweek_6  name_QGGSBO005  \\\n",
       "location apn         datetime                                           \n",
       "CB       ibox.tim.it 2016-12-01 00:00:00            0               0   \n",
       "                     2016-12-01 00:15:00            0               0   \n",
       "                     2016-12-01 00:30:00            0               0   \n",
       "                     2016-12-01 00:45:00            0               0   \n",
       "                     2016-12-01 01:00:00            0               0   \n",
       "\n",
       "                                          name_QGGSCT003  name_QGGSMI013  \\\n",
       "location apn         datetime                                              \n",
       "CB       ibox.tim.it 2016-12-01 00:00:00               0               0   \n",
       "                     2016-12-01 00:15:00               0               0   \n",
       "                     2016-12-01 00:30:00               0               0   \n",
       "                     2016-12-01 00:45:00               0               0   \n",
       "                     2016-12-01 01:00:00               0               0   \n",
       "\n",
       "                                          name_QGGSMI014  name_QGGSNA005  \\\n",
       "location apn         datetime                                              \n",
       "CB       ibox.tim.it 2016-12-01 00:00:00               0               1   \n",
       "                     2016-12-01 00:15:00               0               1   \n",
       "                     2016-12-01 00:30:00               0               1   \n",
       "                     2016-12-01 00:45:00               0               1   \n",
       "                     2016-12-01 01:00:00               0               1   \n",
       "\n",
       "                                          name_QGGSRM013  name_QGGSRM014  \\\n",
       "location apn         datetime                                              \n",
       "CB       ibox.tim.it 2016-12-01 00:00:00               0               0   \n",
       "                     2016-12-01 00:15:00               0               0   \n",
       "                     2016-12-01 00:30:00               0               0   \n",
       "                     2016-12-01 00:45:00               0               0   \n",
       "                     2016-12-01 01:00:00               0               0   \n",
       "\n",
       "                                          name_QGGSVE005  \n",
       "location apn         datetime                             \n",
       "CB       ibox.tim.it 2016-12-01 00:00:00               0  \n",
       "                     2016-12-01 00:15:00               0  \n",
       "                     2016-12-01 00:30:00               0  \n",
       "                     2016-12-01 00:45:00               0  \n",
       "                     2016-12-01 01:00:00               0  "
      ]
     },
     "execution_count": 6,
     "metadata": {},
     "output_type": "execute_result"
    }
   ],
   "source": [
    "dff = pd.get_dummies(dff, columns=['dayofweek', 'name'] )\n",
    "dff = dff.reset_index().set_index(['location', 'apn', 'd  atetime']).sort_index()\n",
    "dff = dff.dropna() \n",
    "print('shape:', dff.shape)\n",
    "dff.head() "
   ]
  }
 ],
 "metadata": {
  "celltoolbar": "Slideshow",
  "kernelspec": {
   "display_name": "Python 3",
   "language": "python",
   "name": "python3"
  },
  "language_info": {
   "codemirror_mode": {
    "name": "ipython",
    "version": 3
   },
   "file_extension": ".py",
   "mimetype": "text/x-python",
   "name": "python",
   "nbconvert_exporter": "python",
   "pygments_lexer": "ipython3",
   "version": "3.6.0"
  }
 },
 "nbformat": 4,
 "nbformat_minor": 2
}
